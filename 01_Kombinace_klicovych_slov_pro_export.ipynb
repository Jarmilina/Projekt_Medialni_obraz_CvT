{
 "cells": [
  {
   "attachments": {},
   "cell_type": "markdown",
   "metadata": {},
   "source": [
    "## Kombinace klíčových slov\n",
    "Nadefinovaly jsme seznamy klíčových slov. Ty potřebujeme nakombinovat a uložit v .xlsx souboru.\n",
    "\n",
    "Naprogramujeme Power Automate, aby si otevřel stránku Monitory s naším tématem a vložil do ní ze seznamu v excelu jednu kombinaci klíčových slov za druhou.\n",
    "\n",
    "Na základě seznamu 345 kombinací klíčových slov nám aplikace Monitora vygeneruje dataset o mediálních výstupech věnovaných našemu tématu. \n",
    "\n",
    "Ve výsledném datasetu bude sloupec \"Klíčová slova\" s výčtem našich kombinací, které se shodují s textem daného mediálního výstupu.\n",
    "\n",
    "Kombinujeme název organizace Člověk v Tísni s okruhy jejich činností, zeměmi působnosti a jmény veřejně známých tváří organizace. Navíc nás zajímají výstupy o filmovém festivalu Jeden svět pořádaném Člověkem v Tísni a příspěvky ze sociálních sítí, kde jsou ČvT a podobně zaměřené organizace označeny."
   ]
  },
  {
   "cell_type": "code",
   "execution_count": 109,
   "metadata": {},
   "outputs": [],
   "source": [
    "import pandas as pd\n",
    "import pyexcel"
   ]
  },
  {
   "cell_type": "code",
   "execution_count": 110,
   "metadata": {},
   "outputs": [],
   "source": [
    "cvt = 'Člověk+v+Tísni' "
   ]
  },
  {
   "cell_type": "code",
   "execution_count": 111,
   "metadata": {},
   "outputs": [],
   "source": [
    "organizace = [\n",
    "                '(\"Lékaři bez hranic\" OR \"Lékařů bez hranic\" OR \"Lékařům bez hranic\" OR \"Lékaře bez hranic\" OR \"Lékařích bez hranic\")', \n",
    "                '(\"ADRA\" OR \"ADRY\" OR \"ADŘE\" OR \"ADRU\" OR \"ADROU\")', \n",
    "                'Amnesty+International', \n",
    "                '(\"Dobrý Anděl\" OR \"Dobrého Anděla\" OR \"Dobrému Anděli\" OR \"Dobrému Andělovi\" OR \"Dobrém Anděli\" OR \"Dobrém Andělovi\" OR \"Dobrým Andělem\")', \n",
    "                'UNICEF', \n",
    "                'GreenPeace',\n",
    "                '(\"!Charita\" OR \"!Charity\" OR \"!Charitě\" OR \"!Charitu\" OR \"!Charitou\")',\n",
    "                '(\"Červený kříž\" OR  \"Červeného kříže\" OR \"Červenému kříži\" OR \"Červeném kříži\" OR \"Červeným křížem\")'\n",
    "                ]\n"
   ]
  },
  {
   "cell_type": "code",
   "execution_count": 112,
   "metadata": {},
   "outputs": [],
   "source": [
    "cinnost = [ \n",
    "            'Humanitární+pomoc',\n",
    "            'Rozvojová+spolupráce', \n",
    "            'Sociální+bydlení', \n",
    "            'Sociální+práce', \n",
    "            'Aktivismus',\n",
    "            'Dobrovolnictví', \n",
    "            'Boj+proti+chudobě', \n",
    "            'Pomoc+uprchlíkům', \n",
    "            'Ukrajina', \n",
    "            'Lidská+práva', \n",
    "            'Vzdělávání+v+rozvojových+zemích~10',\n",
    "            'Občanská+společnost',\n",
    "            'Doučování',\n",
    "            'Studentské+volby',\n",
    "            'Volby+nanečisto',\n",
    "            'Vzdělávací+program+varianty', \n",
    "            'Festival+Jeden+svět',\n",
    "            'Paměť+národa',\n",
    "            'Skutečný+dárek',\n",
    "            'Dluhy~30',\n",
    "            'Exekuce~30',\n",
    "            'Retrostipendia',\n",
    "            'Mediální+gramostnost',\n",
    "            'Mediální+výchova'\n",
    "        ]\n"
   ]
  },
  {
   "cell_type": "code",
   "execution_count": 113,
   "metadata": {},
   "outputs": [],
   "source": [
    "\n",
    "lide = [\n",
    "        'Šimon+Pánek', \n",
    "        'Daniel+Hůle', \n",
    "        'Tomáš+Vyhnálek', \n",
    "        'Tomáš+Urban', \n",
    "        'Denisa+Bultasová', \n",
    "        'Jan+Mrkvička', \n",
    "        'Tomáš+Habart', \n",
    "        'Karel+Strachota', \n",
    "        'Ondřej+Kamenický', \n",
    "        'Tomáš+Kocian',\n",
    "        'Ivo+Dokoupil',\n",
    "        'Dušan+Pořízek',\n",
    "        'Jitka+Trachtová'\n",
    "        ]\n"
   ]
  },
  {
   "cell_type": "code",
   "execution_count": 114,
   "metadata": {},
   "outputs": [],
   "source": [
    "\n",
    "zeme = [\n",
    "        'AFGHÁNISTÁN~15', \n",
    "        'ANGOLA~15', \n",
    "        'ARMÉNIE~15', \n",
    "        'ÁZERBÁJDŽÁN~15', \n",
    "        'BARMA~15', \n",
    "        'MYANMAR~15', \n",
    "        'BĚLORUSKO~15', \n",
    "        'BOSNA+HERZEGOVINA~15', \n",
    "        'ČESKÁ+REPUBLIKA~15', \n",
    "        'KONGO~15', \n",
    "        'EGYPT~15', \n",
    "        'EKVÁDOR~15', \n",
    "        'ETIOPIE~15', \n",
    "        'FILIPÍNY~15', \n",
    "        'GRUZIE~15', \n",
    "        'HONDURAS~15', \n",
    "        'IRÁK~15', \n",
    "        'JEMEN~15', \n",
    "        'KAMBODŽA~15', \n",
    "        'KOSOVO~15', \n",
    "        'KUBA~15', \n",
    "        'LIBYE~15', \n",
    "        '\"!Mali\"~15', \n",
    "        'MOLDAVSKO~15', \n",
    "        'MONGOLSKO~15', \n",
    "        'NEPÁL~15', \n",
    "        'NIKARAGUA~15', \n",
    "        'PODNĚSTŘÍ~15', \n",
    "        'RUMUNSKO~15', \n",
    "        'MAKEDONIE~15', \n",
    "        'SRBSKO~15', \n",
    "        'STŘEDNÍ+ASIE~15', \n",
    "        'SÝRIE~15', \n",
    "        'TURECKO~15', \n",
    "        'UKRAJINA~15', \n",
    "        'VENEZUELA~15', \n",
    "        'VIETNAM~15', \n",
    "        'ZAMBIE~15'\n",
    "        ]"
   ]
  },
  {
   "cell_type": "code",
   "execution_count": 115,
   "metadata": {},
   "outputs": [],
   "source": [
    "social_cvt = [\n",
    "        '@clovek_v_tisni',\n",
    "        '@clovekvtisni',\n",
    "        '@people-in-need'\n",
    "        ]"
   ]
  },
  {
   "cell_type": "code",
   "execution_count": 116,
   "metadata": {},
   "outputs": [],
   "source": [
    "social_ostatni = [\n",
    "        '@adra_cz',\n",
    "        '@adra-cz',\n",
    "        '@ADRACzechRepublic',\n",
    "        '@ADRAIntl',\n",
    "        '@amnesty',\n",
    "        '@amnesty_cz',\n",
    "        '@amnesty-international',\n",
    "        '@AmnestyInternationalCR',\n",
    "        '@caritas_czech_republic',\n",
    "        '@caritas-czech-republic',\n",
    "        '@CCK_Tweetuje',\n",
    "        '@cervenykriz',\n",
    "        '@ceskycervenykriz_official',\n",
    "        '@ceskycervenykriz5283',\n",
    "        '@czech-red-cross',\n",
    "        '@dobryandel',\n",
    "        '@dobryandelcz',\n",
    "        '@greenpeace.cz',\n",
    "        '@greenpeaceczech',\n",
    "        '@greenpeace-czech-republic',\n",
    "        '@charita_cesko',\n",
    "        '@CharitaCesko',\n",
    "        '@CharitaCR',\n",
    "        '@lekaribezhranic',\n",
    "        '@lekari-bez-hranic',\n",
    "        '@msf_czech',\n",
    "        '@unicef',\n",
    "        '@unicef.ceska.republika',\n",
    "        '@unicef_cz',\n",
    "        '@UNICEFCZ',\n",
    "        '@UNICEFvCR'\n",
    "        ]"
   ]
  },
  {
   "cell_type": "code",
   "execution_count": 117,
   "metadata": {},
   "outputs": [],
   "source": [
    "jeden_svet = [\n",
    "        '(\"!Jeden svět na školách\" OR \"!Jednoho světa na školách\" OR \"!Jednomu světu na školách\" OR \"!Jednom světě na školách\" OR \"!Jedním světem na školách\")',\n",
    "        '(\"!Jeden svět\" OR \"!Jednoho světa\" OR \"!Jednomu světu\" OR \"!Jednom světě\" OR \"!Jedním světem\") AND Festival',\n",
    "        '(\"!Jeden svět\" OR \"!Jednoho světa\" OR \"!Jednomu světu\" OR \"!Jednom světě\" OR \"!Jedním světem\") -entitě -ilumináti -nestačí~5'\n",
    "        # Snazim se vyloucit cca 1% clanku o Jednom svetu, ktere vede na konspiracni clanky o Diktature Jednoho sveta\n",
    "]"
   ]
  },
  {
   "cell_type": "code",
   "execution_count": 118,
   "metadata": {},
   "outputs": [],
   "source": [
    "combined = []"
   ]
  },
  {
   "cell_type": "code",
   "execution_count": 119,
   "metadata": {},
   "outputs": [],
   "source": [
    "for o in organizace:\n",
    "    combined.append(f'{cvt} AND {o}')"
   ]
  },
  {
   "cell_type": "code",
   "execution_count": 120,
   "metadata": {},
   "outputs": [],
   "source": [
    "for c in cinnost:\n",
    "    combined.append(f'{cvt} AND {c}')"
   ]
  },
  {
   "cell_type": "code",
   "execution_count": 121,
   "metadata": {},
   "outputs": [],
   "source": [
    "for z in zeme:\n",
    "    combined.append(f'{cvt} AND {z}')"
   ]
  },
  {
   "cell_type": "code",
   "execution_count": 122,
   "metadata": {},
   "outputs": [],
   "source": [
    "for l in lide:\n",
    "    combined.append(f'{cvt} AND {l}')"
   ]
  },
  {
   "cell_type": "code",
   "execution_count": 123,
   "metadata": {},
   "outputs": [],
   "source": [
    "for s_c in social_cvt:\n",
    "    combined.append(s_c)"
   ]
  },
  {
   "cell_type": "code",
   "execution_count": 124,
   "metadata": {},
   "outputs": [],
   "source": [
    "for s_o in social_ostatni:\n",
    "    combined.append(s_o)"
   ]
  },
  {
   "cell_type": "code",
   "execution_count": 125,
   "metadata": {},
   "outputs": [],
   "source": [
    "for s_c in social_cvt:\n",
    "    for l in lide:\n",
    "        combined.append(f'{s_c} AND {l}')"
   ]
  },
  {
   "cell_type": "code",
   "execution_count": 126,
   "metadata": {},
   "outputs": [],
   "source": [
    "for s_c in social_cvt:\n",
    "    for z in zeme:\n",
    "        combined.append(f'{s_c} AND {z}')  "
   ]
  },
  {
   "cell_type": "code",
   "execution_count": 127,
   "metadata": {},
   "outputs": [],
   "source": [
    "for s_c in social_cvt:\n",
    "    for c in cinnost:\n",
    "        combined.append(f'{s_c} AND {c}')"
   ]
  },
  {
   "cell_type": "code",
   "execution_count": 128,
   "metadata": {},
   "outputs": [],
   "source": [
    "for slovo in jeden_svet:\n",
    "    combined.append(slovo)"
   ]
  },
  {
   "cell_type": "code",
   "execution_count": 131,
   "metadata": {},
   "outputs": [],
   "source": [
    "df = pd.DataFrame()"
   ]
  },
  {
   "cell_type": "code",
   "execution_count": 132,
   "metadata": {},
   "outputs": [],
   "source": [
    "df['words'] = combined"
   ]
  },
  {
   "cell_type": "code",
   "execution_count": 133,
   "metadata": {},
   "outputs": [
    {
     "data": {
      "text/plain": [
       "0      Člověk+v+Tísni AND (\"Lékaři bez hranic\" OR \"Lé...\n",
       "1      Člověk+v+Tísni AND (\"ADRA\" OR \"ADRY\" OR \"ADŘE\"...\n",
       "2               Člověk+v+Tísni AND Amnesty+International\n",
       "3      Člověk+v+Tísni AND (\"Dobrý Anděl\" OR \"Dobrého ...\n",
       "4                              Člověk+v+Tísni AND UNICEF\n",
       "                             ...                        \n",
       "340             @people-in-need AND Mediální+gramostnost\n",
       "341                 @people-in-need AND Mediální+výchova\n",
       "342    (\"!Jeden svět na školách\" OR \"!Jednoho světa n...\n",
       "343    (\"!Jeden svět\" OR \"!Jednoho světa\" OR \"!Jednom...\n",
       "344    (\"!Jeden svět\" OR \"!Jednoho světa\" OR \"!Jednom...\n",
       "Name: words, Length: 345, dtype: object"
      ]
     },
     "execution_count": 133,
     "metadata": {},
     "output_type": "execute_result"
    }
   ],
   "source": [
    "df['words']"
   ]
  },
  {
   "cell_type": "code",
   "execution_count": 134,
   "metadata": {},
   "outputs": [],
   "source": [
    "df.to_excel('Final_list_keywords.xlsx', index=False)"
   ]
  }
 ],
 "metadata": {
  "kernelspec": {
   "display_name": "Python 3",
   "language": "python",
   "name": "python3"
  },
  "language_info": {
   "codemirror_mode": {
    "name": "ipython",
    "version": 3
   },
   "file_extension": ".py",
   "mimetype": "text/x-python",
   "name": "python",
   "nbconvert_exporter": "python",
   "pygments_lexer": "ipython3",
   "version": "3.11.2"
  },
  "orig_nbformat": 4
 },
 "nbformat": 4,
 "nbformat_minor": 2
}
